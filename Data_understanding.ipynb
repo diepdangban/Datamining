{
  "nbformat": 4,
  "nbformat_minor": 0,
  "metadata": {
    "colab": {
      "provenance": [],
      "authorship_tag": "ABX9TyP5d3NS118i4DQMdM/1VVWs",
      "include_colab_link": true
    },
    "kernelspec": {
      "name": "python3",
      "display_name": "Python 3"
    },
    "language_info": {
      "name": "python"
    }
  },
  "cells": [
    {
      "cell_type": "markdown",
      "metadata": {
        "id": "view-in-github",
        "colab_type": "text"
      },
      "source": [
        "<a href=\"https://colab.research.google.com/github/diepdangban/Datamining/blob/main/Data_understanding.ipynb\" target=\"_parent\"><img src=\"https://colab.research.google.com/assets/colab-badge.svg\" alt=\"Open In Colab\"/></a>"
      ]
    },
    {
      "cell_type": "code",
      "execution_count": null,
      "metadata": {
        "id": "mXQ-Se0CryEZ"
      },
      "outputs": [],
      "source": [
        "#nhap du lieu\n",
        "import pandas as pd\n",
        "\n",
        "financial_indicatior\n",
        "price_hisstory\n"
      ]
    },
    {
      "cell_type": "code",
      "source": [
        "#tinh 5 number summary"
      ],
      "metadata": {
        "id": "Zhmhj3YwsxUf"
      },
      "execution_count": null,
      "outputs": []
    },
    {
      "cell_type": "code",
      "source": [
        "#lay gia dong cua moi ngay cuoi quy tu 2021-2025"
      ],
      "metadata": {
        "id": "sdIY1t-ys13r"
      },
      "execution_count": null,
      "outputs": []
    },
    {
      "cell_type": "code",
      "source": [
        "#gop bang"
      ],
      "metadata": {
        "id": "VS96yufosfpi"
      },
      "execution_count": null,
      "outputs": []
    },
    {
      "cell_type": "code",
      "source": [],
      "metadata": {
        "id": "vgI4C6tys8Kb"
      },
      "execution_count": null,
      "outputs": []
    }
  ]
}